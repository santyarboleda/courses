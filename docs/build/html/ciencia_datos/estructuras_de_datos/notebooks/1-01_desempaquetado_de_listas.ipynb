{
 "cells": [
  {
   "cell_type": "markdown",
   "id": "83bebf55-a809-4e4f-a8b9-dc906eb81ba8",
   "metadata": {
    "tags": []
   },
   "source": [
    "Desempaquetado de listas\n",
    "===\n",
    "\n",
    "* Duración de la lección: 1:21 min"
   ]
  },
  {
   "cell_type": "code",
   "execution_count": 1,
   "id": "6dfe2102-9e81-4c0c-bdc3-401a31472908",
   "metadata": {},
   "outputs": [
    {
     "data": {
      "text/plain": [
       "[2, 3]"
      ]
     },
     "execution_count": 1,
     "metadata": {},
     "output_type": "execute_result"
    }
   ],
   "source": [
    "#\n",
    "# first = 1, rest = [2, 3]\n",
    "#\n",
    "first, *rest = [1, 2, 3]\n",
    "rest"
   ]
  },
  {
   "cell_type": "code",
   "execution_count": 2,
   "id": "4882257e-5099-4c84-94b6-5a6098037b89",
   "metadata": {},
   "outputs": [
    {
     "data": {
      "text/plain": [
       "[2, 3]"
      ]
     },
     "execution_count": 2,
     "metadata": {},
     "output_type": "execute_result"
    }
   ],
   "source": [
    "#\n",
    "# first = 1, middle = [2, 3], last = 4\n",
    "#\n",
    "first, *middle, last = [1, 2, 3, 4]\n",
    "middle"
   ]
  }
 ],
 "metadata": {
  "kernelspec": {
   "display_name": "Python 3.10.7 ('.venv': venv)",
   "language": "python",
   "name": "python3"
  },
  "language_info": {
   "codemirror_mode": {
    "name": "ipython",
    "version": 3
   },
   "file_extension": ".py",
   "mimetype": "text/x-python",
   "name": "python",
   "nbconvert_exporter": "python",
   "pygments_lexer": "ipython3",
   "version": "3.10.7"
  },
  "vscode": {
   "interpreter": {
    "hash": "99683f87c1354598af39114791cc78b29c5617e49c4bfa4c5fb7492534eeeb87"
   }
  }
 },
 "nbformat": 4,
 "nbformat_minor": 5
}
